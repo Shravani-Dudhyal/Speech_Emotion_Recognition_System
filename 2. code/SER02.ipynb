{
  "nbformat": 4,
  "nbformat_minor": 0,
  "metadata": {
    "colab": {
      "provenance": []
    },
    "kernelspec": {
      "name": "python3",
      "display_name": "Python 3"
    },
    "language_info": {
      "name": "python"
    }
  },
  "cells": [
    {
      "cell_type": "code",
      "execution_count": null,
      "metadata": {
        "colab": {
          "base_uri": "https://localhost:8080/"
        },
        "id": "9wKXYDc1aIHE",
        "outputId": "c3938f3a-7d20-45de-978e-8bdb31053ed6"
      },
      "outputs": [
        {
          "output_type": "stream",
          "name": "stdout",
          "text": [
            "Mounted at /content/drive\n"
          ]
        }
      ],
      "source": [
        "from google.colab import drive\n",
        "drive.mount('/content/drive')"
      ]
    },
    {
      "cell_type": "code",
      "source": [
        "import os\n",
        "Root = '/content/drive/MyDrive/SER21-7'\n",
        "os.chdir(Root)"
      ],
      "metadata": {
        "id": "qt3Uu2Q0eJKQ"
      },
      "execution_count": null,
      "outputs": []
    },
    {
      "cell_type": "code",
      "source": [
        "ls"
      ],
      "metadata": {
        "colab": {
          "base_uri": "https://localhost:8080/"
        },
        "id": "OyX7nrh5eLKf",
        "outputId": "85da526b-d7fe-4cec-b2e2-3ad224f12bf3"
      },
      "execution_count": null,
      "outputs": [
        {
          "output_type": "stream",
          "name": "stdout",
          "text": [
            "\u001b[0m\u001b[01;34mActor_01\u001b[0m/  \u001b[01;34mActor_05\u001b[0m/  \u001b[01;34mActor_09\u001b[0m/  \u001b[01;34mActor_13\u001b[0m/  \u001b[01;34mActor_17\u001b[0m/  \u001b[01;34mActor_21\u001b[0m/  modelForPrediction1.sav\n",
            "\u001b[01;34mActor_02\u001b[0m/  \u001b[01;34mActor_06\u001b[0m/  \u001b[01;34mActor_10\u001b[0m/  \u001b[01;34mActor_14\u001b[0m/  \u001b[01;34mActor_18\u001b[0m/  \u001b[01;34mActor_22\u001b[0m/  SER.ipynb\n",
            "\u001b[01;34mActor_03\u001b[0m/  \u001b[01;34mActor_07\u001b[0m/  \u001b[01;34mActor_11\u001b[0m/  \u001b[01;34mActor_15\u001b[0m/  \u001b[01;34mActor_19\u001b[0m/  \u001b[01;34mActor_23\u001b[0m/\n",
            "\u001b[01;34mActor_04\u001b[0m/  \u001b[01;34mActor_08\u001b[0m/  \u001b[01;34mActor_12\u001b[0m/  \u001b[01;34mActor_16\u001b[0m/  \u001b[01;34mActor_20\u001b[0m/  \u001b[01;34mActor_24\u001b[0m/\n"
          ]
        }
      ]
    },
    {
      "cell_type": "code",
      "source": [
        "import librosa\n",
        "import soundfile\n",
        "import os, glob, pickle\n",
        "import numpy as np\n",
        "from sklearn.model_selection import train_test_split\n",
        "from sklearn.neural_network import MLPClassifier\n",
        "from sklearn.metrics import accuracy_score\n",
        "from IPython.display import Audio  # For audio playback"
      ],
      "metadata": {
        "id": "_04qUhFheZYa"
      },
      "execution_count": null,
      "outputs": []
    },
    {
      "cell_type": "code",
      "source": [
        "# Extract features (mfcc, chroma, mel) from a sound file\n",
        "def extract_feature(file_name, mfcc, chroma, mel):\n",
        "    with soundfile.SoundFile(file_name) as sound_file:\n",
        "        X = sound_file.read(dtype=\"float32\")\n",
        "        sample_rate = sound_file.samplerate\n",
        "        if chroma:\n",
        "            stft = np.abs(librosa.stft(X))\n",
        "        result = np.array([])\n",
        "        if mfcc:\n",
        "            mfccs = np.mean(librosa.feature.mfcc(y=X, sr=sample_rate, n_mfcc=40).T, axis=0)\n",
        "            result = np.hstack((result, mfccs))\n",
        "        if chroma:\n",
        "            chroma = np.mean(librosa.feature.chroma_stft(S=stft, sr=sample_rate).T, axis=0)\n",
        "            result = np.hstack((result, chroma))\n",
        "        if mel:\n",
        "            mel = np.mean(librosa.feature.melspectrogram(y=X, sr=sample_rate).T, axis=0)\n",
        "            result = np.hstack((result, mel))\n",
        "    return result\n"
      ],
      "metadata": {
        "id": "6YNf0dEbeim_"
      },
      "execution_count": null,
      "outputs": []
    },
    {
      "cell_type": "code",
      "source": [
        "# Emotions in the RAVDESS dataset\n",
        "emotions = {\n",
        "    '01': 'neutral',\n",
        "    '02': 'calm',\n",
        "    '03': 'happy',\n",
        "    '04': 'sad',\n",
        "    '05': 'angry',\n",
        "    '06': 'fearful',\n",
        "    '07': 'disgust',\n",
        "    '08': 'surprised'\n",
        "}"
      ],
      "metadata": {
        "id": "110FhhQxexR9"
      },
      "execution_count": null,
      "outputs": []
    },
    {
      "cell_type": "code",
      "source": [
        "# Emotions to observe\n",
        "observed_emotions = ['calm', 'happy', 'fearful', 'disgust']"
      ],
      "metadata": {
        "id": "0VDdBqOke4Ht"
      },
      "execution_count": null,
      "outputs": []
    },
    {
      "cell_type": "code",
      "source": [
        "# Load the data and extract features for each sound file\n",
        "def load_data(test_size=0.2):\n",
        "    x, y = [], []\n",
        "    for file in glob.glob(\"/content/drive/MyDrive/SER21-7/Actor_*/*.wav\"):\n",
        "        file_name = os.path.basename(file)\n",
        "        emotion = emotions[file_name.split(\"-\")[2]]\n",
        "        if emotion not in observed_emotions:\n",
        "            continue\n",
        "        feature = extract_feature(file, mfcc=True, chroma=True, mel=True)\n",
        "        x.append(feature)\n",
        "        y.append(emotion)\n",
        "    return train_test_split(np.array(x), y, test_size=test_size, random_state=9)"
      ],
      "metadata": {
        "id": "fGCQcbTqe9Ow"
      },
      "execution_count": null,
      "outputs": []
    },
    {
      "cell_type": "code",
      "source": [
        "# Load data and split into training and testing sets\n",
        "x_train, x_test, y_train, y_test = load_data(test_size=0.2)\n",
        "print((x_train.shape[0], x_test.shape[0]))  # Print number of samples\n",
        "print(f'Features extracted: {x_train.shape[1]}')  # Print number of features"
      ],
      "metadata": {
        "colab": {
          "base_uri": "https://localhost:8080/"
        },
        "id": "QZnrvd2_fEVI",
        "outputId": "b2bc63fe-3b7c-432d-b7b2-da6a411b7857"
      },
      "execution_count": null,
      "outputs": [
        {
          "output_type": "stream",
          "name": "stdout",
          "text": [
            "(591, 148)\n",
            "Features extracted: 180\n"
          ]
        }
      ]
    },
    {
      "cell_type": "code",
      "source": [
        "x_train"
      ],
      "metadata": {
        "colab": {
          "base_uri": "https://localhost:8080/"
        },
        "id": "RKVUZrt4iIsC",
        "outputId": "493765ef-d806-45c9-b057-bcecdeed7c7e"
      },
      "execution_count": null,
      "outputs": [
        {
          "output_type": "execute_result",
          "data": {
            "text/plain": [
              "array([[-6.27725098e+02,  6.59371643e+01,  9.10654259e+00, ...,\n",
              "         8.55466260e-06,  9.50507638e-06,  3.72761519e-06],\n",
              "       [-6.46522766e+02,  5.42023430e+01,  1.08291817e+01, ...,\n",
              "         8.97055506e-05,  8.28218544e-05,  7.21329634e-05],\n",
              "       [-3.60190247e+02, -6.44309855e+00, -5.31332588e+01, ...,\n",
              "         3.65064689e-03,  1.93899486e-03,  1.06055546e-03],\n",
              "       ...,\n",
              "       [-5.50096191e+02,  1.70297680e+01, -1.14575634e+01, ...,\n",
              "         1.51764631e-04,  1.16828531e-04,  8.47479314e-05],\n",
              "       [-5.62213684e+02,  5.26101494e+01,  1.28255539e+01, ...,\n",
              "         1.91441679e-04,  1.94725711e-04,  7.13090849e-05],\n",
              "       [-5.04816345e+02,  3.53618660e+01, -1.43495789e+01, ...,\n",
              "         6.08151488e-04,  5.55269653e-04,  4.47782222e-04]])"
            ]
          },
          "metadata": {},
          "execution_count": 10
        }
      ]
    },
    {
      "cell_type": "code",
      "source": [
        "# Initialize the Multi Layer Perceptron Classifier\n",
        "model = MLPClassifier(alpha=0.01, batch_size=256, epsilon=1e-08, hidden_layer_sizes=(300,), learning_rate='adaptive', max_iter=500)"
      ],
      "metadata": {
        "id": "SRlYofS0gMay"
      },
      "execution_count": null,
      "outputs": []
    },
    {
      "cell_type": "code",
      "source": [
        "# Train the model\n",
        "model.fit(x_train, y_train)"
      ],
      "metadata": {
        "colab": {
          "base_uri": "https://localhost:8080/",
          "height": 97
        },
        "id": "opCfvY2vga9Z",
        "outputId": "9732e334-ea63-4b15-af78-64c5bc423930"
      },
      "execution_count": null,
      "outputs": [
        {
          "output_type": "execute_result",
          "data": {
            "text/plain": [
              "MLPClassifier(alpha=0.01, batch_size=256, hidden_layer_sizes=(300,),\n",
              "              learning_rate='adaptive', max_iter=500)"
            ],
            "text/html": [
              "<style>#sk-container-id-1 {\n",
              "  /* Definition of color scheme common for light and dark mode */\n",
              "  --sklearn-color-text: black;\n",
              "  --sklearn-color-line: gray;\n",
              "  /* Definition of color scheme for unfitted estimators */\n",
              "  --sklearn-color-unfitted-level-0: #fff5e6;\n",
              "  --sklearn-color-unfitted-level-1: #f6e4d2;\n",
              "  --sklearn-color-unfitted-level-2: #ffe0b3;\n",
              "  --sklearn-color-unfitted-level-3: chocolate;\n",
              "  /* Definition of color scheme for fitted estimators */\n",
              "  --sklearn-color-fitted-level-0: #f0f8ff;\n",
              "  --sklearn-color-fitted-level-1: #d4ebff;\n",
              "  --sklearn-color-fitted-level-2: #b3dbfd;\n",
              "  --sklearn-color-fitted-level-3: cornflowerblue;\n",
              "\n",
              "  /* Specific color for light theme */\n",
              "  --sklearn-color-text-on-default-background: var(--sg-text-color, var(--theme-code-foreground, var(--jp-content-font-color1, black)));\n",
              "  --sklearn-color-background: var(--sg-background-color, var(--theme-background, var(--jp-layout-color0, white)));\n",
              "  --sklearn-color-border-box: var(--sg-text-color, var(--theme-code-foreground, var(--jp-content-font-color1, black)));\n",
              "  --sklearn-color-icon: #696969;\n",
              "\n",
              "  @media (prefers-color-scheme: dark) {\n",
              "    /* Redefinition of color scheme for dark theme */\n",
              "    --sklearn-color-text-on-default-background: var(--sg-text-color, var(--theme-code-foreground, var(--jp-content-font-color1, white)));\n",
              "    --sklearn-color-background: var(--sg-background-color, var(--theme-background, var(--jp-layout-color0, #111)));\n",
              "    --sklearn-color-border-box: var(--sg-text-color, var(--theme-code-foreground, var(--jp-content-font-color1, white)));\n",
              "    --sklearn-color-icon: #878787;\n",
              "  }\n",
              "}\n",
              "\n",
              "#sk-container-id-1 {\n",
              "  color: var(--sklearn-color-text);\n",
              "}\n",
              "\n",
              "#sk-container-id-1 pre {\n",
              "  padding: 0;\n",
              "}\n",
              "\n",
              "#sk-container-id-1 input.sk-hidden--visually {\n",
              "  border: 0;\n",
              "  clip: rect(1px 1px 1px 1px);\n",
              "  clip: rect(1px, 1px, 1px, 1px);\n",
              "  height: 1px;\n",
              "  margin: -1px;\n",
              "  overflow: hidden;\n",
              "  padding: 0;\n",
              "  position: absolute;\n",
              "  width: 1px;\n",
              "}\n",
              "\n",
              "#sk-container-id-1 div.sk-dashed-wrapped {\n",
              "  border: 1px dashed var(--sklearn-color-line);\n",
              "  margin: 0 0.4em 0.5em 0.4em;\n",
              "  box-sizing: border-box;\n",
              "  padding-bottom: 0.4em;\n",
              "  background-color: var(--sklearn-color-background);\n",
              "}\n",
              "\n",
              "#sk-container-id-1 div.sk-container {\n",
              "  /* jupyter's `normalize.less` sets `[hidden] { display: none; }`\n",
              "     but bootstrap.min.css set `[hidden] { display: none !important; }`\n",
              "     so we also need the `!important` here to be able to override the\n",
              "     default hidden behavior on the sphinx rendered scikit-learn.org.\n",
              "     See: https://github.com/scikit-learn/scikit-learn/issues/21755 */\n",
              "  display: inline-block !important;\n",
              "  position: relative;\n",
              "}\n",
              "\n",
              "#sk-container-id-1 div.sk-text-repr-fallback {\n",
              "  display: none;\n",
              "}\n",
              "\n",
              "div.sk-parallel-item,\n",
              "div.sk-serial,\n",
              "div.sk-item {\n",
              "  /* draw centered vertical line to link estimators */\n",
              "  background-image: linear-gradient(var(--sklearn-color-text-on-default-background), var(--sklearn-color-text-on-default-background));\n",
              "  background-size: 2px 100%;\n",
              "  background-repeat: no-repeat;\n",
              "  background-position: center center;\n",
              "}\n",
              "\n",
              "/* Parallel-specific style estimator block */\n",
              "\n",
              "#sk-container-id-1 div.sk-parallel-item::after {\n",
              "  content: \"\";\n",
              "  width: 100%;\n",
              "  border-bottom: 2px solid var(--sklearn-color-text-on-default-background);\n",
              "  flex-grow: 1;\n",
              "}\n",
              "\n",
              "#sk-container-id-1 div.sk-parallel {\n",
              "  display: flex;\n",
              "  align-items: stretch;\n",
              "  justify-content: center;\n",
              "  background-color: var(--sklearn-color-background);\n",
              "  position: relative;\n",
              "}\n",
              "\n",
              "#sk-container-id-1 div.sk-parallel-item {\n",
              "  display: flex;\n",
              "  flex-direction: column;\n",
              "}\n",
              "\n",
              "#sk-container-id-1 div.sk-parallel-item:first-child::after {\n",
              "  align-self: flex-end;\n",
              "  width: 50%;\n",
              "}\n",
              "\n",
              "#sk-container-id-1 div.sk-parallel-item:last-child::after {\n",
              "  align-self: flex-start;\n",
              "  width: 50%;\n",
              "}\n",
              "\n",
              "#sk-container-id-1 div.sk-parallel-item:only-child::after {\n",
              "  width: 0;\n",
              "}\n",
              "\n",
              "/* Serial-specific style estimator block */\n",
              "\n",
              "#sk-container-id-1 div.sk-serial {\n",
              "  display: flex;\n",
              "  flex-direction: column;\n",
              "  align-items: center;\n",
              "  background-color: var(--sklearn-color-background);\n",
              "  padding-right: 1em;\n",
              "  padding-left: 1em;\n",
              "}\n",
              "\n",
              "\n",
              "/* Toggleable style: style used for estimator/Pipeline/ColumnTransformer box that is\n",
              "clickable and can be expanded/collapsed.\n",
              "- Pipeline and ColumnTransformer use this feature and define the default style\n",
              "- Estimators will overwrite some part of the style using the `sk-estimator` class\n",
              "*/\n",
              "\n",
              "/* Pipeline and ColumnTransformer style (default) */\n",
              "\n",
              "#sk-container-id-1 div.sk-toggleable {\n",
              "  /* Default theme specific background. It is overwritten whether we have a\n",
              "  specific estimator or a Pipeline/ColumnTransformer */\n",
              "  background-color: var(--sklearn-color-background);\n",
              "}\n",
              "\n",
              "/* Toggleable label */\n",
              "#sk-container-id-1 label.sk-toggleable__label {\n",
              "  cursor: pointer;\n",
              "  display: block;\n",
              "  width: 100%;\n",
              "  margin-bottom: 0;\n",
              "  padding: 0.5em;\n",
              "  box-sizing: border-box;\n",
              "  text-align: center;\n",
              "}\n",
              "\n",
              "#sk-container-id-1 label.sk-toggleable__label-arrow:before {\n",
              "  /* Arrow on the left of the label */\n",
              "  content: \"▸\";\n",
              "  float: left;\n",
              "  margin-right: 0.25em;\n",
              "  color: var(--sklearn-color-icon);\n",
              "}\n",
              "\n",
              "#sk-container-id-1 label.sk-toggleable__label-arrow:hover:before {\n",
              "  color: var(--sklearn-color-text);\n",
              "}\n",
              "\n",
              "/* Toggleable content - dropdown */\n",
              "\n",
              "#sk-container-id-1 div.sk-toggleable__content {\n",
              "  max-height: 0;\n",
              "  max-width: 0;\n",
              "  overflow: hidden;\n",
              "  text-align: left;\n",
              "  /* unfitted */\n",
              "  background-color: var(--sklearn-color-unfitted-level-0);\n",
              "}\n",
              "\n",
              "#sk-container-id-1 div.sk-toggleable__content.fitted {\n",
              "  /* fitted */\n",
              "  background-color: var(--sklearn-color-fitted-level-0);\n",
              "}\n",
              "\n",
              "#sk-container-id-1 div.sk-toggleable__content pre {\n",
              "  margin: 0.2em;\n",
              "  border-radius: 0.25em;\n",
              "  color: var(--sklearn-color-text);\n",
              "  /* unfitted */\n",
              "  background-color: var(--sklearn-color-unfitted-level-0);\n",
              "}\n",
              "\n",
              "#sk-container-id-1 div.sk-toggleable__content.fitted pre {\n",
              "  /* unfitted */\n",
              "  background-color: var(--sklearn-color-fitted-level-0);\n",
              "}\n",
              "\n",
              "#sk-container-id-1 input.sk-toggleable__control:checked~div.sk-toggleable__content {\n",
              "  /* Expand drop-down */\n",
              "  max-height: 200px;\n",
              "  max-width: 100%;\n",
              "  overflow: auto;\n",
              "}\n",
              "\n",
              "#sk-container-id-1 input.sk-toggleable__control:checked~label.sk-toggleable__label-arrow:before {\n",
              "  content: \"▾\";\n",
              "}\n",
              "\n",
              "/* Pipeline/ColumnTransformer-specific style */\n",
              "\n",
              "#sk-container-id-1 div.sk-label input.sk-toggleable__control:checked~label.sk-toggleable__label {\n",
              "  color: var(--sklearn-color-text);\n",
              "  background-color: var(--sklearn-color-unfitted-level-2);\n",
              "}\n",
              "\n",
              "#sk-container-id-1 div.sk-label.fitted input.sk-toggleable__control:checked~label.sk-toggleable__label {\n",
              "  background-color: var(--sklearn-color-fitted-level-2);\n",
              "}\n",
              "\n",
              "/* Estimator-specific style */\n",
              "\n",
              "/* Colorize estimator box */\n",
              "#sk-container-id-1 div.sk-estimator input.sk-toggleable__control:checked~label.sk-toggleable__label {\n",
              "  /* unfitted */\n",
              "  background-color: var(--sklearn-color-unfitted-level-2);\n",
              "}\n",
              "\n",
              "#sk-container-id-1 div.sk-estimator.fitted input.sk-toggleable__control:checked~label.sk-toggleable__label {\n",
              "  /* fitted */\n",
              "  background-color: var(--sklearn-color-fitted-level-2);\n",
              "}\n",
              "\n",
              "#sk-container-id-1 div.sk-label label.sk-toggleable__label,\n",
              "#sk-container-id-1 div.sk-label label {\n",
              "  /* The background is the default theme color */\n",
              "  color: var(--sklearn-color-text-on-default-background);\n",
              "}\n",
              "\n",
              "/* On hover, darken the color of the background */\n",
              "#sk-container-id-1 div.sk-label:hover label.sk-toggleable__label {\n",
              "  color: var(--sklearn-color-text);\n",
              "  background-color: var(--sklearn-color-unfitted-level-2);\n",
              "}\n",
              "\n",
              "/* Label box, darken color on hover, fitted */\n",
              "#sk-container-id-1 div.sk-label.fitted:hover label.sk-toggleable__label.fitted {\n",
              "  color: var(--sklearn-color-text);\n",
              "  background-color: var(--sklearn-color-fitted-level-2);\n",
              "}\n",
              "\n",
              "/* Estimator label */\n",
              "\n",
              "#sk-container-id-1 div.sk-label label {\n",
              "  font-family: monospace;\n",
              "  font-weight: bold;\n",
              "  display: inline-block;\n",
              "  line-height: 1.2em;\n",
              "}\n",
              "\n",
              "#sk-container-id-1 div.sk-label-container {\n",
              "  text-align: center;\n",
              "}\n",
              "\n",
              "/* Estimator-specific */\n",
              "#sk-container-id-1 div.sk-estimator {\n",
              "  font-family: monospace;\n",
              "  border: 1px dotted var(--sklearn-color-border-box);\n",
              "  border-radius: 0.25em;\n",
              "  box-sizing: border-box;\n",
              "  margin-bottom: 0.5em;\n",
              "  /* unfitted */\n",
              "  background-color: var(--sklearn-color-unfitted-level-0);\n",
              "}\n",
              "\n",
              "#sk-container-id-1 div.sk-estimator.fitted {\n",
              "  /* fitted */\n",
              "  background-color: var(--sklearn-color-fitted-level-0);\n",
              "}\n",
              "\n",
              "/* on hover */\n",
              "#sk-container-id-1 div.sk-estimator:hover {\n",
              "  /* unfitted */\n",
              "  background-color: var(--sklearn-color-unfitted-level-2);\n",
              "}\n",
              "\n",
              "#sk-container-id-1 div.sk-estimator.fitted:hover {\n",
              "  /* fitted */\n",
              "  background-color: var(--sklearn-color-fitted-level-2);\n",
              "}\n",
              "\n",
              "/* Specification for estimator info (e.g. \"i\" and \"?\") */\n",
              "\n",
              "/* Common style for \"i\" and \"?\" */\n",
              "\n",
              ".sk-estimator-doc-link,\n",
              "a:link.sk-estimator-doc-link,\n",
              "a:visited.sk-estimator-doc-link {\n",
              "  float: right;\n",
              "  font-size: smaller;\n",
              "  line-height: 1em;\n",
              "  font-family: monospace;\n",
              "  background-color: var(--sklearn-color-background);\n",
              "  border-radius: 1em;\n",
              "  height: 1em;\n",
              "  width: 1em;\n",
              "  text-decoration: none !important;\n",
              "  margin-left: 1ex;\n",
              "  /* unfitted */\n",
              "  border: var(--sklearn-color-unfitted-level-1) 1pt solid;\n",
              "  color: var(--sklearn-color-unfitted-level-1);\n",
              "}\n",
              "\n",
              ".sk-estimator-doc-link.fitted,\n",
              "a:link.sk-estimator-doc-link.fitted,\n",
              "a:visited.sk-estimator-doc-link.fitted {\n",
              "  /* fitted */\n",
              "  border: var(--sklearn-color-fitted-level-1) 1pt solid;\n",
              "  color: var(--sklearn-color-fitted-level-1);\n",
              "}\n",
              "\n",
              "/* On hover */\n",
              "div.sk-estimator:hover .sk-estimator-doc-link:hover,\n",
              ".sk-estimator-doc-link:hover,\n",
              "div.sk-label-container:hover .sk-estimator-doc-link:hover,\n",
              ".sk-estimator-doc-link:hover {\n",
              "  /* unfitted */\n",
              "  background-color: var(--sklearn-color-unfitted-level-3);\n",
              "  color: var(--sklearn-color-background);\n",
              "  text-decoration: none;\n",
              "}\n",
              "\n",
              "div.sk-estimator.fitted:hover .sk-estimator-doc-link.fitted:hover,\n",
              ".sk-estimator-doc-link.fitted:hover,\n",
              "div.sk-label-container:hover .sk-estimator-doc-link.fitted:hover,\n",
              ".sk-estimator-doc-link.fitted:hover {\n",
              "  /* fitted */\n",
              "  background-color: var(--sklearn-color-fitted-level-3);\n",
              "  color: var(--sklearn-color-background);\n",
              "  text-decoration: none;\n",
              "}\n",
              "\n",
              "/* Span, style for the box shown on hovering the info icon */\n",
              ".sk-estimator-doc-link span {\n",
              "  display: none;\n",
              "  z-index: 9999;\n",
              "  position: relative;\n",
              "  font-weight: normal;\n",
              "  right: .2ex;\n",
              "  padding: .5ex;\n",
              "  margin: .5ex;\n",
              "  width: min-content;\n",
              "  min-width: 20ex;\n",
              "  max-width: 50ex;\n",
              "  color: var(--sklearn-color-text);\n",
              "  box-shadow: 2pt 2pt 4pt #999;\n",
              "  /* unfitted */\n",
              "  background: var(--sklearn-color-unfitted-level-0);\n",
              "  border: .5pt solid var(--sklearn-color-unfitted-level-3);\n",
              "}\n",
              "\n",
              ".sk-estimator-doc-link.fitted span {\n",
              "  /* fitted */\n",
              "  background: var(--sklearn-color-fitted-level-0);\n",
              "  border: var(--sklearn-color-fitted-level-3);\n",
              "}\n",
              "\n",
              ".sk-estimator-doc-link:hover span {\n",
              "  display: block;\n",
              "}\n",
              "\n",
              "/* \"?\"-specific style due to the `<a>` HTML tag */\n",
              "\n",
              "#sk-container-id-1 a.estimator_doc_link {\n",
              "  float: right;\n",
              "  font-size: 1rem;\n",
              "  line-height: 1em;\n",
              "  font-family: monospace;\n",
              "  background-color: var(--sklearn-color-background);\n",
              "  border-radius: 1rem;\n",
              "  height: 1rem;\n",
              "  width: 1rem;\n",
              "  text-decoration: none;\n",
              "  /* unfitted */\n",
              "  color: var(--sklearn-color-unfitted-level-1);\n",
              "  border: var(--sklearn-color-unfitted-level-1) 1pt solid;\n",
              "}\n",
              "\n",
              "#sk-container-id-1 a.estimator_doc_link.fitted {\n",
              "  /* fitted */\n",
              "  border: var(--sklearn-color-fitted-level-1) 1pt solid;\n",
              "  color: var(--sklearn-color-fitted-level-1);\n",
              "}\n",
              "\n",
              "/* On hover */\n",
              "#sk-container-id-1 a.estimator_doc_link:hover {\n",
              "  /* unfitted */\n",
              "  background-color: var(--sklearn-color-unfitted-level-3);\n",
              "  color: var(--sklearn-color-background);\n",
              "  text-decoration: none;\n",
              "}\n",
              "\n",
              "#sk-container-id-1 a.estimator_doc_link.fitted:hover {\n",
              "  /* fitted */\n",
              "  background-color: var(--sklearn-color-fitted-level-3);\n",
              "}\n",
              "</style><div id=\"sk-container-id-1\" class=\"sk-top-container\"><div class=\"sk-text-repr-fallback\"><pre>MLPClassifier(alpha=0.01, batch_size=256, hidden_layer_sizes=(300,),\n",
              "              learning_rate=&#x27;adaptive&#x27;, max_iter=500)</pre><b>In a Jupyter environment, please rerun this cell to show the HTML representation or trust the notebook. <br />On GitHub, the HTML representation is unable to render, please try loading this page with nbviewer.org.</b></div><div class=\"sk-container\" hidden><div class=\"sk-item\"><div class=\"sk-estimator fitted sk-toggleable\"><input class=\"sk-toggleable__control sk-hidden--visually\" id=\"sk-estimator-id-1\" type=\"checkbox\" checked><label for=\"sk-estimator-id-1\" class=\"sk-toggleable__label fitted sk-toggleable__label-arrow fitted\">&nbsp;&nbsp;MLPClassifier<a class=\"sk-estimator-doc-link fitted\" rel=\"noreferrer\" target=\"_blank\" href=\"https://scikit-learn.org/1.5/modules/generated/sklearn.neural_network.MLPClassifier.html\">?<span>Documentation for MLPClassifier</span></a><span class=\"sk-estimator-doc-link fitted\">i<span>Fitted</span></span></label><div class=\"sk-toggleable__content fitted\"><pre>MLPClassifier(alpha=0.01, batch_size=256, hidden_layer_sizes=(300,),\n",
              "              learning_rate=&#x27;adaptive&#x27;, max_iter=500)</pre></div> </div></div></div></div>"
            ]
          },
          "metadata": {},
          "execution_count": 12
        }
      ]
    },
    {
      "cell_type": "code",
      "source": [
        "#Predict for the test set\n",
        "y_pred=model.predict(x_test)"
      ],
      "metadata": {
        "id": "XuGZHD1RiXYi"
      },
      "execution_count": null,
      "outputs": []
    },
    {
      "cell_type": "code",
      "source": [
        "y_pred"
      ],
      "metadata": {
        "colab": {
          "base_uri": "https://localhost:8080/"
        },
        "id": "O6F507SLiZno",
        "outputId": "83c0c178-6df8-4b27-8897-d53817003c92",
        "collapsed": true
      },
      "execution_count": null,
      "outputs": [
        {
          "output_type": "execute_result",
          "data": {
            "text/plain": [
              "array(['fearful', 'disgust', 'calm', 'disgust', 'disgust', 'happy',\n",
              "       'happy', 'fearful', 'calm', 'calm', 'calm', 'disgust', 'fearful',\n",
              "       'disgust', 'calm', 'happy', 'happy', 'happy', 'disgust', 'fearful',\n",
              "       'happy', 'happy', 'calm', 'disgust', 'calm', 'fearful', 'disgust',\n",
              "       'fearful', 'calm', 'calm', 'fearful', 'calm', 'calm', 'disgust',\n",
              "       'calm', 'happy', 'happy', 'happy', 'disgust', 'fearful', 'calm',\n",
              "       'disgust', 'calm', 'fearful', 'happy', 'disgust', 'happy', 'calm',\n",
              "       'calm', 'happy', 'disgust', 'disgust', 'happy', 'calm', 'calm',\n",
              "       'calm', 'happy', 'happy', 'happy', 'disgust', 'calm', 'happy',\n",
              "       'calm', 'calm', 'disgust', 'calm', 'calm', 'fearful', 'fearful',\n",
              "       'happy', 'calm', 'calm', 'calm', 'disgust', 'calm', 'calm',\n",
              "       'fearful', 'calm', 'fearful', 'calm', 'happy', 'fearful', 'calm',\n",
              "       'fearful', 'calm', 'calm', 'calm', 'disgust', 'calm', 'happy',\n",
              "       'calm', 'calm', 'calm', 'disgust', 'fearful', 'calm', 'calm',\n",
              "       'happy', 'calm', 'calm', 'calm', 'disgust', 'happy', 'fearful',\n",
              "       'happy', 'happy', 'calm', 'disgust', 'calm', 'happy', 'fearful',\n",
              "       'fearful', 'disgust', 'disgust', 'disgust', 'disgust', 'calm',\n",
              "       'calm', 'fearful', 'disgust', 'happy', 'calm', 'calm', 'fearful',\n",
              "       'calm', 'disgust', 'calm', 'disgust', 'fearful', 'calm', 'happy',\n",
              "       'calm', 'happy', 'disgust', 'happy', 'calm', 'calm', 'fearful',\n",
              "       'calm', 'calm', 'disgust', 'calm', 'calm', 'happy', 'disgust',\n",
              "       'calm', 'calm', 'fearful'], dtype='<U7')"
            ]
          },
          "metadata": {},
          "execution_count": 14
        }
      ]
    },
    {
      "cell_type": "code",
      "source": [
        "#Calculate the accuracy of our model\n",
        "accuracy=accuracy_score(y_true=y_test, y_pred=y_pred)\n",
        "\n",
        "#Print the accuracy\n",
        "print(\"Accuracy: {:.2f}%\".format(accuracy*100))"
      ],
      "metadata": {
        "colab": {
          "base_uri": "https://localhost:8080/"
        },
        "id": "HkbmdlVZifFc",
        "outputId": "aca5ab61-371b-4c54-9371-954103876100"
      },
      "execution_count": null,
      "outputs": [
        {
          "output_type": "stream",
          "name": "stdout",
          "text": [
            "Accuracy: 74.32%\n"
          ]
        }
      ]
    },
    {
      "cell_type": "code",
      "source": [
        "from sklearn.metrics import accuracy_score, f1_score"
      ],
      "metadata": {
        "id": "mG_U1xy7ilpK"
      },
      "execution_count": null,
      "outputs": []
    },
    {
      "cell_type": "code",
      "source": [
        "f1_score(y_test, y_pred,average=None)"
      ],
      "metadata": {
        "colab": {
          "base_uri": "https://localhost:8080/"
        },
        "id": "8sNX8Cx9iryE",
        "outputId": "9c804ffd-c977-4149-e49b-6f9517890f5a"
      },
      "execution_count": null,
      "outputs": [
        {
          "output_type": "execute_result",
          "data": {
            "text/plain": [
              "array([0.81132075, 0.67605634, 0.65217391, 0.76712329])"
            ]
          },
          "metadata": {},
          "execution_count": 17
        }
      ]
    },
    {
      "cell_type": "code",
      "source": [
        "import pandas as pd\n",
        "df=pd.DataFrame({'Actual': y_test, 'Predicted':y_pred})\n",
        "df.head(10)"
      ],
      "metadata": {
        "colab": {
          "base_uri": "https://localhost:8080/",
          "height": 363
        },
        "id": "yTJg0UV5iyeH",
        "outputId": "cb5eb7b4-b6e2-4222-bfca-824127a77ff8"
      },
      "execution_count": null,
      "outputs": [
        {
          "output_type": "execute_result",
          "data": {
            "text/plain": [
              "    Actual Predicted\n",
              "0  fearful   fearful\n",
              "1  disgust   disgust\n",
              "2     calm      calm\n",
              "3    happy   disgust\n",
              "4  disgust   disgust\n",
              "5    happy     happy\n",
              "6  fearful     happy\n",
              "7  fearful   fearful\n",
              "8     calm      calm\n",
              "9     calm      calm"
            ],
            "text/html": [
              "\n",
              "  <div id=\"df-6c2864f0-138c-4ba4-9a1b-10527cb4cffd\" class=\"colab-df-container\">\n",
              "    <div>\n",
              "<style scoped>\n",
              "    .dataframe tbody tr th:only-of-type {\n",
              "        vertical-align: middle;\n",
              "    }\n",
              "\n",
              "    .dataframe tbody tr th {\n",
              "        vertical-align: top;\n",
              "    }\n",
              "\n",
              "    .dataframe thead th {\n",
              "        text-align: right;\n",
              "    }\n",
              "</style>\n",
              "<table border=\"1\" class=\"dataframe\">\n",
              "  <thead>\n",
              "    <tr style=\"text-align: right;\">\n",
              "      <th></th>\n",
              "      <th>Actual</th>\n",
              "      <th>Predicted</th>\n",
              "    </tr>\n",
              "  </thead>\n",
              "  <tbody>\n",
              "    <tr>\n",
              "      <th>0</th>\n",
              "      <td>fearful</td>\n",
              "      <td>fearful</td>\n",
              "    </tr>\n",
              "    <tr>\n",
              "      <th>1</th>\n",
              "      <td>disgust</td>\n",
              "      <td>disgust</td>\n",
              "    </tr>\n",
              "    <tr>\n",
              "      <th>2</th>\n",
              "      <td>calm</td>\n",
              "      <td>calm</td>\n",
              "    </tr>\n",
              "    <tr>\n",
              "      <th>3</th>\n",
              "      <td>happy</td>\n",
              "      <td>disgust</td>\n",
              "    </tr>\n",
              "    <tr>\n",
              "      <th>4</th>\n",
              "      <td>disgust</td>\n",
              "      <td>disgust</td>\n",
              "    </tr>\n",
              "    <tr>\n",
              "      <th>5</th>\n",
              "      <td>happy</td>\n",
              "      <td>happy</td>\n",
              "    </tr>\n",
              "    <tr>\n",
              "      <th>6</th>\n",
              "      <td>fearful</td>\n",
              "      <td>happy</td>\n",
              "    </tr>\n",
              "    <tr>\n",
              "      <th>7</th>\n",
              "      <td>fearful</td>\n",
              "      <td>fearful</td>\n",
              "    </tr>\n",
              "    <tr>\n",
              "      <th>8</th>\n",
              "      <td>calm</td>\n",
              "      <td>calm</td>\n",
              "    </tr>\n",
              "    <tr>\n",
              "      <th>9</th>\n",
              "      <td>calm</td>\n",
              "      <td>calm</td>\n",
              "    </tr>\n",
              "  </tbody>\n",
              "</table>\n",
              "</div>\n",
              "    <div class=\"colab-df-buttons\">\n",
              "\n",
              "  <div class=\"colab-df-container\">\n",
              "    <button class=\"colab-df-convert\" onclick=\"convertToInteractive('df-6c2864f0-138c-4ba4-9a1b-10527cb4cffd')\"\n",
              "            title=\"Convert this dataframe to an interactive table.\"\n",
              "            style=\"display:none;\">\n",
              "\n",
              "  <svg xmlns=\"http://www.w3.org/2000/svg\" height=\"24px\" viewBox=\"0 -960 960 960\">\n",
              "    <path d=\"M120-120v-720h720v720H120Zm60-500h600v-160H180v160Zm220 220h160v-160H400v160Zm0 220h160v-160H400v160ZM180-400h160v-160H180v160Zm440 0h160v-160H620v160ZM180-180h160v-160H180v160Zm440 0h160v-160H620v160Z\"/>\n",
              "  </svg>\n",
              "    </button>\n",
              "\n",
              "  <style>\n",
              "    .colab-df-container {\n",
              "      display:flex;\n",
              "      gap: 12px;\n",
              "    }\n",
              "\n",
              "    .colab-df-convert {\n",
              "      background-color: #E8F0FE;\n",
              "      border: none;\n",
              "      border-radius: 50%;\n",
              "      cursor: pointer;\n",
              "      display: none;\n",
              "      fill: #1967D2;\n",
              "      height: 32px;\n",
              "      padding: 0 0 0 0;\n",
              "      width: 32px;\n",
              "    }\n",
              "\n",
              "    .colab-df-convert:hover {\n",
              "      background-color: #E2EBFA;\n",
              "      box-shadow: 0px 1px 2px rgba(60, 64, 67, 0.3), 0px 1px 3px 1px rgba(60, 64, 67, 0.15);\n",
              "      fill: #174EA6;\n",
              "    }\n",
              "\n",
              "    .colab-df-buttons div {\n",
              "      margin-bottom: 4px;\n",
              "    }\n",
              "\n",
              "    [theme=dark] .colab-df-convert {\n",
              "      background-color: #3B4455;\n",
              "      fill: #D2E3FC;\n",
              "    }\n",
              "\n",
              "    [theme=dark] .colab-df-convert:hover {\n",
              "      background-color: #434B5C;\n",
              "      box-shadow: 0px 1px 3px 1px rgba(0, 0, 0, 0.15);\n",
              "      filter: drop-shadow(0px 1px 2px rgba(0, 0, 0, 0.3));\n",
              "      fill: #FFFFFF;\n",
              "    }\n",
              "  </style>\n",
              "\n",
              "    <script>\n",
              "      const buttonEl =\n",
              "        document.querySelector('#df-6c2864f0-138c-4ba4-9a1b-10527cb4cffd button.colab-df-convert');\n",
              "      buttonEl.style.display =\n",
              "        google.colab.kernel.accessAllowed ? 'block' : 'none';\n",
              "\n",
              "      async function convertToInteractive(key) {\n",
              "        const element = document.querySelector('#df-6c2864f0-138c-4ba4-9a1b-10527cb4cffd');\n",
              "        const dataTable =\n",
              "          await google.colab.kernel.invokeFunction('convertToInteractive',\n",
              "                                                    [key], {});\n",
              "        if (!dataTable) return;\n",
              "\n",
              "        const docLinkHtml = 'Like what you see? Visit the ' +\n",
              "          '<a target=\"_blank\" href=https://colab.research.google.com/notebooks/data_table.ipynb>data table notebook</a>'\n",
              "          + ' to learn more about interactive tables.';\n",
              "        element.innerHTML = '';\n",
              "        dataTable['output_type'] = 'display_data';\n",
              "        await google.colab.output.renderOutput(dataTable, element);\n",
              "        const docLink = document.createElement('div');\n",
              "        docLink.innerHTML = docLinkHtml;\n",
              "        element.appendChild(docLink);\n",
              "      }\n",
              "    </script>\n",
              "  </div>\n",
              "\n",
              "\n",
              "<div id=\"df-312b174d-5003-40ac-bd83-e474ab526b5c\">\n",
              "  <button class=\"colab-df-quickchart\" onclick=\"quickchart('df-312b174d-5003-40ac-bd83-e474ab526b5c')\"\n",
              "            title=\"Suggest charts\"\n",
              "            style=\"display:none;\">\n",
              "\n",
              "<svg xmlns=\"http://www.w3.org/2000/svg\" height=\"24px\"viewBox=\"0 0 24 24\"\n",
              "     width=\"24px\">\n",
              "    <g>\n",
              "        <path d=\"M19 3H5c-1.1 0-2 .9-2 2v14c0 1.1.9 2 2 2h14c1.1 0 2-.9 2-2V5c0-1.1-.9-2-2-2zM9 17H7v-7h2v7zm4 0h-2V7h2v10zm4 0h-2v-4h2v4z\"/>\n",
              "    </g>\n",
              "</svg>\n",
              "  </button>\n",
              "\n",
              "<style>\n",
              "  .colab-df-quickchart {\n",
              "      --bg-color: #E8F0FE;\n",
              "      --fill-color: #1967D2;\n",
              "      --hover-bg-color: #E2EBFA;\n",
              "      --hover-fill-color: #174EA6;\n",
              "      --disabled-fill-color: #AAA;\n",
              "      --disabled-bg-color: #DDD;\n",
              "  }\n",
              "\n",
              "  [theme=dark] .colab-df-quickchart {\n",
              "      --bg-color: #3B4455;\n",
              "      --fill-color: #D2E3FC;\n",
              "      --hover-bg-color: #434B5C;\n",
              "      --hover-fill-color: #FFFFFF;\n",
              "      --disabled-bg-color: #3B4455;\n",
              "      --disabled-fill-color: #666;\n",
              "  }\n",
              "\n",
              "  .colab-df-quickchart {\n",
              "    background-color: var(--bg-color);\n",
              "    border: none;\n",
              "    border-radius: 50%;\n",
              "    cursor: pointer;\n",
              "    display: none;\n",
              "    fill: var(--fill-color);\n",
              "    height: 32px;\n",
              "    padding: 0;\n",
              "    width: 32px;\n",
              "  }\n",
              "\n",
              "  .colab-df-quickchart:hover {\n",
              "    background-color: var(--hover-bg-color);\n",
              "    box-shadow: 0 1px 2px rgba(60, 64, 67, 0.3), 0 1px 3px 1px rgba(60, 64, 67, 0.15);\n",
              "    fill: var(--button-hover-fill-color);\n",
              "  }\n",
              "\n",
              "  .colab-df-quickchart-complete:disabled,\n",
              "  .colab-df-quickchart-complete:disabled:hover {\n",
              "    background-color: var(--disabled-bg-color);\n",
              "    fill: var(--disabled-fill-color);\n",
              "    box-shadow: none;\n",
              "  }\n",
              "\n",
              "  .colab-df-spinner {\n",
              "    border: 2px solid var(--fill-color);\n",
              "    border-color: transparent;\n",
              "    border-bottom-color: var(--fill-color);\n",
              "    animation:\n",
              "      spin 1s steps(1) infinite;\n",
              "  }\n",
              "\n",
              "  @keyframes spin {\n",
              "    0% {\n",
              "      border-color: transparent;\n",
              "      border-bottom-color: var(--fill-color);\n",
              "      border-left-color: var(--fill-color);\n",
              "    }\n",
              "    20% {\n",
              "      border-color: transparent;\n",
              "      border-left-color: var(--fill-color);\n",
              "      border-top-color: var(--fill-color);\n",
              "    }\n",
              "    30% {\n",
              "      border-color: transparent;\n",
              "      border-left-color: var(--fill-color);\n",
              "      border-top-color: var(--fill-color);\n",
              "      border-right-color: var(--fill-color);\n",
              "    }\n",
              "    40% {\n",
              "      border-color: transparent;\n",
              "      border-right-color: var(--fill-color);\n",
              "      border-top-color: var(--fill-color);\n",
              "    }\n",
              "    60% {\n",
              "      border-color: transparent;\n",
              "      border-right-color: var(--fill-color);\n",
              "    }\n",
              "    80% {\n",
              "      border-color: transparent;\n",
              "      border-right-color: var(--fill-color);\n",
              "      border-bottom-color: var(--fill-color);\n",
              "    }\n",
              "    90% {\n",
              "      border-color: transparent;\n",
              "      border-bottom-color: var(--fill-color);\n",
              "    }\n",
              "  }\n",
              "</style>\n",
              "\n",
              "  <script>\n",
              "    async function quickchart(key) {\n",
              "      const quickchartButtonEl =\n",
              "        document.querySelector('#' + key + ' button');\n",
              "      quickchartButtonEl.disabled = true;  // To prevent multiple clicks.\n",
              "      quickchartButtonEl.classList.add('colab-df-spinner');\n",
              "      try {\n",
              "        const charts = await google.colab.kernel.invokeFunction(\n",
              "            'suggestCharts', [key], {});\n",
              "      } catch (error) {\n",
              "        console.error('Error during call to suggestCharts:', error);\n",
              "      }\n",
              "      quickchartButtonEl.classList.remove('colab-df-spinner');\n",
              "      quickchartButtonEl.classList.add('colab-df-quickchart-complete');\n",
              "    }\n",
              "    (() => {\n",
              "      let quickchartButtonEl =\n",
              "        document.querySelector('#df-312b174d-5003-40ac-bd83-e474ab526b5c button');\n",
              "      quickchartButtonEl.style.display =\n",
              "        google.colab.kernel.accessAllowed ? 'block' : 'none';\n",
              "    })();\n",
              "  </script>\n",
              "</div>\n",
              "\n",
              "    </div>\n",
              "  </div>\n"
            ],
            "application/vnd.google.colaboratory.intrinsic+json": {
              "type": "dataframe",
              "variable_name": "df",
              "summary": "{\n  \"name\": \"df\",\n  \"rows\": 148,\n  \"fields\": [\n    {\n      \"column\": \"Actual\",\n      \"properties\": {\n        \"dtype\": \"category\",\n        \"num_unique_values\": 4,\n        \"samples\": [\n          \"disgust\",\n          \"happy\",\n          \"fearful\"\n        ],\n        \"semantic_type\": \"\",\n        \"description\": \"\"\n      }\n    },\n    {\n      \"column\": \"Predicted\",\n      \"properties\": {\n        \"dtype\": \"category\",\n        \"num_unique_values\": 4,\n        \"samples\": [\n          \"disgust\",\n          \"happy\",\n          \"fearful\"\n        ],\n        \"semantic_type\": \"\",\n        \"description\": \"\"\n      }\n    }\n  ]\n}"
            }
          },
          "metadata": {},
          "execution_count": 18
        }
      ]
    },
    {
      "cell_type": "code",
      "source": [
        "# Save the model\n",
        "filename = 'modelForPrediction1.sav'\n",
        "pickle.dump(model, open(filename, 'wb'))"
      ],
      "metadata": {
        "id": "Qvp6NnLggmWS"
      },
      "execution_count": null,
      "outputs": []
    },
    {
      "cell_type": "code",
      "source": [
        "# Load the saved model for prediction\n",
        "loaded_model = pickle.load(open(filename, 'rb'))"
      ],
      "metadata": {
        "id": "Dn0RTavBgyyF"
      },
      "execution_count": null,
      "outputs": []
    },
    {
      "cell_type": "code",
      "source": [
        "# Audio file for testing\n",
        "audio_file = \"/content/drive/MyDrive/SER21-7/Actor_15/03-01-07-02-02-01-15.wav\""
      ],
      "metadata": {
        "id": "FaGYIU5Lg4NH"
      },
      "execution_count": null,
      "outputs": []
    },
    {
      "cell_type": "code",
      "source": [
        "# Play audio before prediction\n",
        "print(\"Playing audio clip for emotion prediction...\")\n",
        "display(Audio(audio_file))\n",
        "\n",
        "# Extract features for the test audio file\n",
        "feature = extract_feature(audio_file, mfcc=True, chroma=True, mel=True)\n",
        "feature = feature.reshape(1, -1)"
      ],
      "metadata": {
        "colab": {
          "base_uri": "https://localhost:8080/",
          "height": 93
        },
        "id": "cocLFiK5g-6M",
        "outputId": "15c9febb-6713-48a0-a162-b4804697957f"
      },
      "execution_count": null,
      "outputs": [
        {
          "output_type": "stream",
          "name": "stdout",
          "text": [
            "Playing audio clip for emotion prediction...\n"
          ]
        },
        {
          "output_type": "display_data",
          "data": {
            "text/plain": [
              "<IPython.lib.display.Audio object>"
            ],
            "text/html": [
              "\n",
              "                <audio  controls=\"controls\" >\n",
              "                    <source src=\"data:audio/x-wav;base64,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\" type=\"audio/x-wav\" />\n",
              "                    Your browser does not support the audio element.\n",
              "                </audio>\n",
              "              "
            ]
          },
          "metadata": {}
        }
      ]
    },
    {
      "cell_type": "code",
      "source": [
        "# Predict the emotion\n",
        "prediction = loaded_model.predict(feature)\n",
        "print(f\"Predicted emotion: {prediction[0]}\")"
      ],
      "metadata": {
        "colab": {
          "base_uri": "https://localhost:8080/"
        },
        "id": "vlEdEVHwhS6U",
        "outputId": "01fae9ba-2cd2-41ea-ac6c-7ed96ed60310"
      },
      "execution_count": null,
      "outputs": [
        {
          "output_type": "stream",
          "name": "stdout",
          "text": [
            "Predicted emotion: disgust\n"
          ]
        }
      ]
    }
  ]
}